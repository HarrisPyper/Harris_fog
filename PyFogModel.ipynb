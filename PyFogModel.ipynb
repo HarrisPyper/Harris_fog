{
 "cells": [
  {
   "cell_type": "code",
   "execution_count": 1,
   "id": "080a8b12-bc02-4322-b3c3-fd9b79247d87",
   "metadata": {},
   "outputs": [],
   "source": [
    "import numpy as np\n",
    "import matplotlib.pyplot as plt"
   ]
  },
  {
   "cell_type": "markdown",
   "id": "90b1f175-9d9d-4c65-8d18-4ed9486749a5",
   "metadata": {},
   "source": [
    "# Constant"
   ]
  },
  {
   "cell_type": "code",
   "execution_count": 18,
   "id": "5cfc4536-aede-4758-a75c-0da63618cd9e",
   "metadata": {},
   "outputs": [],
   "source": [
    "solar_constant = 1376  # Solar constant (W/m2)\n",
    "albedo = 0.2  # over grass\n",
    "\n",
    "L_v = 2257000  # specific latent heat of condensation of water (J/kg)\n",
    "R_v = 461.57  # specific gas constant of water vapour (J/kg.K)"
   ]
  },
  {
   "cell_type": "markdown",
   "id": "60202703-17f7-4bf5-a011-8c2e596188ab",
   "metadata": {
    "tags": []
   },
   "source": [
    "# Calculate the Net Radiative Flux reaching the surface"
   ]
  },
  {
   "cell_type": "markdown",
   "id": "425fcad1-45b0-4575-baac-583fffdfb66b",
   "metadata": {},
   "source": [
    "**input:**\n",
    "<br>\n",
    "long - Longitude\n",
    "<br>\n",
    "long - Longitude\n",
    "<br>\n",
    "t_utc - UTC time (hours)\n",
    "<br>\n",
    "day - Julian day of the year (day number e.g. 2nd Jan = 2)\n",
    "<br>\n",
    "<br>\n",
    "**output:**\n",
    "<br>\n",
    "Q_s - Net radiative flux (W/m2)"
   ]
  },
  {
   "cell_type": "code",
   "execution_count": 16,
   "id": "fde8365f-aafe-4055-a825-c9dc3b07fa28",
   "metadata": {},
   "outputs": [],
   "source": [
    "def SolarFlux2(long, lat, t_utc, day, CFH, CFM, CFL):\n",
    "    \n",
    "    # convert day to decimal\n",
    "    day = day + t_utc / 24  \n",
    "    \n",
    "    # ratio of distance between sun and earth\n",
    "    d_ratio = 1 - 0.01672 * np.cos(0.9856 * (day - 4))\n",
    "    \n",
    "    # local hour\n",
    "    local_h = (t_utc - 12) * np.pi / 12 + long * np.pi / 180\n",
    "    \n",
    "    # declination of the sun\n",
    "    delta = (23.45 * np.pi / 180) * (np.cos((2 * np.pi * (day - 173)) / 365.25))\n",
    "\n",
    "    # zenith\n",
    "    zenith = np.sin(np.radians(lat)) * np.sin(delta) + np.cos(np.radians(lat)) * np.cos(delta) * np.cos(local_h)\n",
    "\n",
    "    # calculate transmissivity\n",
    "    T_K = (0.6 + 0.2 * np.sin(zenith)) * (1 - 0.4 * CFH) * (1 - 0.7 * CFM) * (1 - 0.4 * CFL)\n",
    "    \n",
    "    sin_zenith = np.sin(zenith)\n",
    "    \n",
    "    # Downwelling shortwave radiation transmitted through the air\n",
    "    if sin_zenith < 0:\n",
    "        k_s_down = 0 # nighttime\n",
    "    else:\n",
    "        k_s_down = solar_constant * T_K * sin_zenith \n",
    "\n",
    "    # Upwelling reflected short wave (solar) radiation\n",
    "    K_s_up = -albedo * K_s_down\n",
    "\n",
    "    # Net upward long wave radiation at the surface\n",
    "    I_s_net = 0.08 * (1 - 0.1 * CFH - 0.3 * CFM - 0.6 * CFL) # 0.08 kms-1\n",
    "\n",
    "    # Net radiation\n",
    "    Q_s = K_s_up + K_s_down + I_s_net\n",
    "\n",
    "    return Q_s"
   ]
  },
  {
   "cell_type": "markdown",
   "id": "1fec934c-0573-4bc2-b2a9-5f14094baa88",
   "metadata": {},
   "source": [
    "# Calculate the condensation (or evaporation) of water in air"
   ]
  },
  {
   "cell_type": "markdown",
   "id": "2f58d266-a013-4e62-870f-83414b84c8fd",
   "metadata": {},
   "source": [
    "**input:**\n",
    "<br>\n",
    "delta_T - Change in Temperature between current and previous time steps(K)\n",
    "<br>\n",
    "T - Current Temperature (K)\n",
    "<br>\n",
    "<br>\n",
    "**output:**\n",
    "<br>\n",
    "deltaM - Mass of consensate/evaporation happening per m3 (g/m3)"
   ]
  },
  {
   "cell_type": "code",
   "execution_count": 23,
   "id": "edd4cd52-9816-42d0-b675-a2ee9aef9d2a",
   "metadata": {},
   "outputs": [],
   "source": [
    "def condensation(deltaT, T):\n",
    "    # Constants for saturation vapor pressure formula\n",
    "    c0 = 0.6105851e+03\n",
    "    c1 = 0.4440316e+02\n",
    "    c2 = 0.1430341e+01\n",
    "    c3 = 0.2641412e-01\n",
    "    c4 = 0.2995057e-03\n",
    "    c5 = 0.2031998e-05\n",
    "    c6 = 0.6936113e-08\n",
    "    c7 = 0.2564861e-11\n",
    "    c8 = -0.3704404e-13\n",
    "    c9 = -4.8165754883E-17\n",
    "    c10+1.3839187032E-18\n",
    "\n",
    "    # Calculate saturation vapor pressure (esat, Pa) using the temperature (T)\n",
    "    def saturation_vapor_pressure(T):\n",
    "        # T-273.15 = C\n",
    "        x = max(-80., T - 273.15)\n",
    "        esat = c0+x*(c1+x*(c2+x*(c3+x*(c4+x*(c5+x*(c6+x*(c7+x*(c8+x*(c9+x*c10)))))))))\n",
    "        return esat\n",
    "\n",
    "    # Calculate saturation vapor pressure\n",
    "    e_s = saturation_vapor_pressure(T)  # saturation vapour pressure (Pa)\n",
    "\n",
    "    # Calculate mass of condensate/evaporation happening per m3 (g/m3)\n",
    "    # Converts the result from kilograms per cubic meter to grams per cubic meter\n",
    "    deltaM = -deltaT * ((L_v * e_s) / ((R_v ** 2) * (T ** 3))) * 1000\n",
    "    \n",
    "    return deltaM"
   ]
  },
  {
   "cell_type": "markdown",
   "id": "3eb48df1-2529-4b69-befc-05579cfda577",
   "metadata": {},
   "source": [
    "# Initialize domain parameters"
   ]
  },
  {
   "cell_type": "code",
   "execution_count": null,
   "id": "303a9130-b779-49c6-91d6-9384b2a12840",
   "metadata": {},
   "outputs": [],
   "source": [
    "domain = {\n",
    "    \"x_size\": 5,\n",
    "    \"y_size\": 5,\n",
    "    \"cell_size_t_1\": 1 / 120,\n",
    "    \"cell_size_t_2\": 1,\n",
    "    \"cell_size_d\": 0.25,\n",
    "    \"t_size\": 800,\n",
    "    \"d_x\": None,\n",
    "    \"d_y\": None,\n",
    "    \"d_z\": None,\n",
    "    \"z_size\": None,\n",
    "}\n",
    "\n",
    "fog_domain = {}\n",
    "\n",
    "domain[\"d_x\"] = domain[\"x_size\"] / domain[\"cell_size_d\"]\n",
    "domain[\"d_y\"] = domain[\"y_size\"] / domain[\"cell_size_d\"]\n",
    "domain[\"d_z\"] = len(np.arange(0.93, 1.05, 0.001 * domain[\"cell_size_d\"]))\n",
    "domain[\"z_size\"] = domain[\"d_z\"] * domain[\"cell_size_d\"]\n",
    "wind_increase = 1\n",
    "vert_temp_multipliers = np.arange(0.93, 1.05, 0.001 * domain[\"cell_size_d\"])"
   ]
  },
  {
   "cell_type": "markdown",
   "id": "8d0c5229-76d4-4c4a-abd8-5650ced1c59d",
   "metadata": {},
   "source": [
    "# Initialize initial condition parameters"
   ]
  },
  {
   "cell_type": "code",
   "execution_count": null,
   "id": "e65792fc-e6b9-43ea-b6d3-f07d2d4c2f7a",
   "metadata": {},
   "outputs": [],
   "source": [
    "initialCond = {\n",
    "    \"Temp_t0_C\": 12.3,\n",
    "    \"Vert_temp_profileC\": None,\n",
    "    \"soil_tempC\": 10,\n",
    "    \"P\": 101325,\n",
    "    \"t_utc\": 11,\n",
    "    \"RH_0\": 1,\n",
    "    \"T_dpC\": 12.3,\n",
    "    \"wind_speed\": 0.1,\n",
    "    \"wind_direction\": 49,\n",
    "    \"R_0\": 1,\n",
    "}\n",
    "\n",
    "\n",
    "initialCond[\"Vert_temp_profileC\"] = initialCond[\"Temp_t0_C\"] * np.arange(0.93, 1.05, 0.001 * domain[\"cell_size_d\"])\n",
    "\n",
    "# Define a dictionary for wind vectors calculations\n",
    "windVectors = {\n",
    "    \"wind_u\": None,\n",
    "    \"wind_v\": None,\n",
    "    \"wind_w\": 0,\n",
    "    \n",
    "}"
   ]
  },
  {
   "cell_type": "markdown",
   "id": "aca3859b-4ec9-473f-aa2b-ddc45f36f799",
   "metadata": {},
   "source": [
    "# Calculate wind vectors"
   ]
  },
  {
   "cell_type": "code",
   "execution_count": null,
   "id": "52629d2e-2ee7-4a01-b574-2b8e299bdbe5",
   "metadata": {},
   "outputs": [],
   "source": [
    "windVectors = {\n",
    "    \"wind_u\": None,\n",
    "    \"wind_v\": None,\n",
    "    \"wind_w\": 0,\n",
    "    \n",
    "}\n",
    "\n",
    "windVectors[\"wind_u\"] = initialCond[\"wind_speed\"] * np.cos(np.radians(initialCond[\"wind_direction\"]))\n",
    "windVectors[\"wind_v\"] = initialCond[\"wind_speed\"] * np.sin(np.radians(initialCond[\"wind_direction\"]))\n",
    "windVectors[\"wind_w\"] = 0"
   ]
  },
  {
   "cell_type": "code",
   "execution_count": null,
   "id": "9ab8546b-48dc-4ef0-b293-fcc8d532b9cf",
   "metadata": {},
   "outputs": [],
   "source": []
  }
 ],
 "metadata": {
  "kernelspec": {
   "display_name": "Python 3 (ipykernel)",
   "language": "python",
   "name": "python3"
  },
  "language_info": {
   "codemirror_mode": {
    "name": "ipython",
    "version": 3
   },
   "file_extension": ".py",
   "mimetype": "text/x-python",
   "name": "python",
   "nbconvert_exporter": "python",
   "pygments_lexer": "ipython3",
   "version": "3.9.13"
  }
 },
 "nbformat": 4,
 "nbformat_minor": 5
}
